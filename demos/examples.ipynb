{
 "cells": [
  {
   "cell_type": "code",
   "execution_count": 2,
   "metadata": {},
   "outputs": [],
   "source": [
    "import mujoco\n",
    "import mujoco.viewer\n",
    "import numpy as np\n",
    "from robot_descriptions.loaders.mujoco import load_robot_description"
   ]
  },
  {
   "cell_type": "markdown",
   "metadata": {},
   "source": [
    "# Load model and render"
   ]
  },
  {
   "cell_type": "markdown",
   "metadata": {},
   "source": [
    "Here we load the UR10e robot description via [robot_descriptions](https://github.com/robot-descriptions/robot_descriptions.py) package\n",
    "Or you can load the robot description directly from a xml file path\n",
    "`model = mujoco.MjModel.from_xml_path(\"your_own_robot_description.xml\")`\n"
   ]
  },
  {
   "cell_type": "code",
   "execution_count": 4,
   "metadata": {},
   "outputs": [],
   "source": [
    "model = load_robot_description(\"shadow_hand_mj_description\")\n",
    "# Load MjData class\n",
    "data = mujoco.MjData(model)"
   ]
  },
  {
   "cell_type": "markdown",
   "metadata": {},
   "source": [
    "Launch mujoco interactive window\n"
   ]
  },
  {
   "cell_type": "code",
   "execution_count": 3,
   "metadata": {},
   "outputs": [],
   "source": [
    "mujoco.viewer.launch()"
   ]
  },
  {
   "cell_type": "markdown",
   "metadata": {},
   "source": [
    "key callback for runtime interaction"
   ]
  },
  {
   "cell_type": "code",
   "execution_count": 4,
   "metadata": {},
   "outputs": [],
   "source": [
    "pause: bool = False\n",
    "\n",
    "def key_callback(kw):\n",
    "    if chr(kw) == \" \":\n",
    "        global pause\n",
    "        pause = not pause"
   ]
  },
  {
   "cell_type": "markdown",
   "metadata": {},
   "source": [
    "launch mujoco passive viewer"
   ]
  },
  {
   "cell_type": "code",
   "execution_count": 6,
   "metadata": {},
   "outputs": [],
   "source": [
    "# Launch the viewer\n",
    "with mujoco.viewer.launch_passive(\n",
    "    model, data, key_callback=key_callback, show_left_ui=False, show_right_ui=False\n",
    ") as viewer:\n",
    "    while viewer.is_running():\n",
    "        if not pause:\n",
    "            # Randomly set the control input\n",
    "            data.ctrl = np.random.uniform(-10, 10)\n",
    "            # Step the simulation\n",
    "            mujoco.mj_step(model, data)\n",
    "            # Sync the data to the viewer and render\n",
    "            viewer.sync()"
   ]
  },
  {
   "cell_type": "code",
   "execution_count": null,
   "metadata": {},
   "outputs": [],
   "source": []
  }
 ],
 "metadata": {
  "kernelspec": {
   "display_name": "mj",
   "language": "python",
   "name": "python3"
  },
  "language_info": {
   "codemirror_mode": {
    "name": "ipython",
    "version": 3
   },
   "file_extension": ".py",
   "mimetype": "text/x-python",
   "name": "python",
   "nbconvert_exporter": "python",
   "pygments_lexer": "ipython3",
   "version": "3.11.9"
  }
 },
 "nbformat": 4,
 "nbformat_minor": 2
}
